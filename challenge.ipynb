{
 "cells": [
  {
   "cell_type": "code",
   "id": "initial_id",
   "metadata": {
    "collapsed": true,
    "ExecuteTime": {
     "end_time": "2024-07-07T21:57:12.661292Z",
     "start_time": "2024-07-07T21:57:10.533961Z"
    }
   },
   "source": "import features",
   "outputs": [],
   "execution_count": 1
  },
  {
   "metadata": {},
   "cell_type": "markdown",
   "source": "Importamos todas las librerias necesarias para el projecto, todos los modulos de python en el proyecto. Y creamos una instancia de la clase FeatureBuilder, que se encarga de cargar los datos y hacer las transformaciones necesarias para el proyecto.",
   "id": "abb181b0890345d9"
  },
  {
   "metadata": {
    "ExecuteTime": {
     "end_time": "2024-07-07T21:57:13.876724Z",
     "start_time": "2024-07-07T21:57:13.873842Z"
    }
   },
   "cell_type": "code",
   "source": [
    "feature_builder = features.FeatureBuilder(\n",
    "    '/Users/miguel.acosta/Downloads/Entidad (3) (2) (3).csv'\n",
    ")"
   ],
   "id": "8cd20ed8e358e173",
   "outputs": [],
   "execution_count": 2
  },
  {
   "metadata": {},
   "cell_type": "markdown",
   "source": "",
   "id": "7269e5a24d7fd496"
  },
  {
   "metadata": {},
   "cell_type": "markdown",
   "source": "Las transformaciones iniciales consisten en eliminar las columnas que no se van a utilizar, y en renombrar las columnas que se van a utilizar. Tambien calcular la variable dependiente de interes \"target\" para realizar los modelos\n",
   "id": "19bf21c663f0f45b"
  },
  {
   "metadata": {
    "ExecuteTime": {
     "end_time": "2024-07-07T21:57:26.188569Z",
     "start_time": "2024-07-07T21:57:15.673263Z"
    }
   },
   "cell_type": "code",
   "source": [
    "df = feature_builder.read_data()\n",
    "df = feature_builder.preprocess_column_names(df)\n",
    "df = feature_builder.create_target(df)"
   ],
   "id": "d083ebe937f74b84",
   "outputs": [
    {
     "name": "stderr",
     "output_type": "stream",
     "text": [
      "/Users/miguel.acosta/Projects/luisa_coding_task/features.py:77: DtypeWarning: Columns (38,39,52,87) have mixed types. Specify dtype option on import or set low_memory=False.\n",
      "  df = pd.read_csv(self.file_path, sep=\";\", encoding=\"latin-1\")\n"
     ]
    }
   ],
   "execution_count": 3
  },
  {
   "metadata": {},
   "cell_type": "markdown",
   "source": [
    "Realizamos ingenieria de attributos \"feature engineering\" sobre los valores para cada columna, para esto se utilizo la siguiente serie de pasos:\n",
    "1. Convertir cada variable categorica en valores enteros applicando un mapa, este mapa ayuda a identificar la relacion entre el valor de la variable categorica y un valor entero. ejemplo, si la variable categorica es \"A\", el valor entero es 1, si la variable categorica es \"B\", el valor entero es 2, y asi sucesivamente.\n",
    "2. Debido a la informacion dada en la ficha tecnica de la tarea, se applico un mapa ordinal sobre la variable \"estrato\" ya que esta variable tiene un orden natural, y se asigno un valor entero a cada estrato.\n",
    "3. Se convirtieron las variables con fechas en respectivos objetos en python que contengan fecha usando el modulo `datetime`."
   ],
   "id": "fa9d7cd2b65959a0"
  },
  {
   "metadata": {
    "ExecuteTime": {
     "end_time": "2024-07-07T21:57:34.637326Z",
     "start_time": "2024-07-07T21:57:26.190177Z"
    }
   },
   "cell_type": "code",
   "source": "df = feature_builder.apply_feature_engineering(df)",
   "id": "be296b200c96bd35",
   "outputs": [],
   "execution_count": 4
  },
  {
   "metadata": {},
   "cell_type": "markdown",
   "source": [
    "## Seleccion de variables\n",
    "\n",
    "Para realizar la seleccion de variables se utiliza el algoritmo de [Recursive Feature Elimination](https://scikit-learn.org/stable/modules/generated/sklearn.feature_selection.RFE.html)\n",
    "\n",
    "El algoritmo de eliminación recursiva de características (RFE, por sus siglas en inglés) es un método de selección de características que funciona eliminando gradualmente las características que no son importantes. Se utiliza comúnmente en Machine Learning para mejorar el rendimiento de los modelos y reducir la dimensionalidad de los datos.\n",
    "\n",
    "RFE iterativamente entrena un modelo, evalúa la importancia de cada característica y elimina la menos importante. Luego, repite el proceso con el conjunto de características restante hasta que se alcance un número deseado de características o se cumpla un criterio de parada.\n",
    "\n",
    "Para realizar lo anterior se necesitan inputar los datos faltantes, para esto se utilizo el siguiente metodo:\n",
    "1. Se normalizan las variables de tal manera que esten entre el intervalo 0 y 1\n",
    "2. Para identificar la \"ausencia\" de datos, se inputa con -1 en los valores faltantes. Esto permite a los modelos identificar los casos en donde se desconoce o se tiene incertiudumbre sobre el valor de una variable, en vez de asumir de manera arbitraria un valor en particular*\n",
    "\n",
    "*Ya que el objetivo inicial es encontrar que variables son mas importantes se realiza el procedimiento descrito con anterioridad. Luego en el caso del modelamiento los datos faltantes se inputaran con el algoritmo `KNNImputer`, que se encarga de inputar los valores faltantes basados en los valores de las variables mas cercanas.\n"
   ],
   "id": "84e638df509fab40"
  },
  {
   "metadata": {
    "ExecuteTime": {
     "end_time": "2024-07-07T21:57:35.971867Z",
     "start_time": "2024-07-07T21:57:34.638983Z"
    }
   },
   "cell_type": "code",
   "source": [
    "# Crear una copia de los datos con -1 imputado en los faltantes\n",
    "feature_selection_df = features.get_minus_one_imputed_data(df)\n",
    "\n",
    "# Aplicamos el RFE en los datos con -1 imputado para identificar las 10 variables mas importantes\n",
    "# esto se hace para reducir el tiempo de computo en el modelamiento"
   ],
   "id": "6f1e9ce615907cef",
   "outputs": [],
   "execution_count": 5
  },
  {
   "metadata": {
    "ExecuteTime": {
     "end_time": "2024-07-07T21:58:51.717856Z",
     "start_time": "2024-07-07T21:57:39.236641Z"
    }
   },
   "cell_type": "code",
   "source": [
    "important_features = list(\n",
    "    features.apply_recursive_feature_elimination(\n",
    "        feature_selection_df,\n",
    "        target=\"BM\",\n",
    "        num_features=10\n",
    "    ).columns\n",
    ")\n",
    "print(important_features)"
   ],
   "id": "c03c9265b7e78b94",
   "outputs": [
    {
     "name": "stdout",
     "output_type": "stream",
     "text": [
      "['fondeador', 'saldo_anterior', 'total_fianza', 'pagaduría', 'cartera_vencida', 'cartera_deteriorada', 'cartera_deteriorada_2', 'altura', 'edad_cliente', 'mora_máxima']\n"
     ]
    }
   ],
   "execution_count": 6
  },
  {
   "metadata": {},
   "cell_type": "code",
   "source": "",
   "id": "77c1087fc5ccec1e",
   "outputs": [],
   "execution_count": null
  }
 ],
 "metadata": {
  "kernelspec": {
   "display_name": "Python 3",
   "language": "python",
   "name": "python3"
  },
  "language_info": {
   "codemirror_mode": {
    "name": "ipython",
    "version": 2
   },
   "file_extension": ".py",
   "mimetype": "text/x-python",
   "name": "python",
   "nbconvert_exporter": "python",
   "pygments_lexer": "ipython2",
   "version": "2.7.6"
  }
 },
 "nbformat": 4,
 "nbformat_minor": 5
}
